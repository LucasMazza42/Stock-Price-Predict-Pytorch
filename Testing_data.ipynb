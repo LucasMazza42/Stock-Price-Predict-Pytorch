{
 "cells": [
  {
   "cell_type": "code",
   "execution_count": 1,
   "metadata": {},
   "outputs": [],
   "source": [
    "from model import MyNetwork\n",
    "import pandas as pd\n",
    "import torch"
   ]
  },
  {
   "cell_type": "code",
   "execution_count": 2,
   "metadata": {},
   "outputs": [
    {
     "data": {
      "text/html": [
       "<div>\n",
       "<style scoped>\n",
       "    .dataframe tbody tr th:only-of-type {\n",
       "        vertical-align: middle;\n",
       "    }\n",
       "\n",
       "    .dataframe tbody tr th {\n",
       "        vertical-align: top;\n",
       "    }\n",
       "\n",
       "    .dataframe thead th {\n",
       "        text-align: right;\n",
       "    }\n",
       "</style>\n",
       "<table border=\"1\" class=\"dataframe\">\n",
       "  <thead>\n",
       "    <tr style=\"text-align: right;\">\n",
       "      <th></th>\n",
       "      <th>Date</th>\n",
       "      <th>Open</th>\n",
       "      <th>High</th>\n",
       "      <th>Low</th>\n",
       "      <th>Close</th>\n",
       "      <th>Volume</th>\n",
       "      <th>Stock</th>\n",
       "    </tr>\n",
       "  </thead>\n",
       "  <tbody>\n",
       "    <tr>\n",
       "      <th>0</th>\n",
       "      <td>2002-06-07</td>\n",
       "      <td>1.3932</td>\n",
       "      <td>1.405</td>\n",
       "      <td>1.3394</td>\n",
       "      <td>1.3702</td>\n",
       "      <td>170781506</td>\n",
       "      <td>AAPL</td>\n",
       "    </tr>\n",
       "    <tr>\n",
       "      <th>1</th>\n",
       "      <td>2004-07-22</td>\n",
       "      <td>21.8610</td>\n",
       "      <td>22.047</td>\n",
       "      <td>21.6940</td>\n",
       "      <td>21.8200</td>\n",
       "      <td>165779585</td>\n",
       "      <td>MSFT</td>\n",
       "    </tr>\n",
       "    <tr>\n",
       "      <th>2</th>\n",
       "      <td>2014-10-02</td>\n",
       "      <td>76.5700</td>\n",
       "      <td>77.480</td>\n",
       "      <td>75.6400</td>\n",
       "      <td>77.0800</td>\n",
       "      <td>36469741</td>\n",
       "      <td>FB</td>\n",
       "    </tr>\n",
       "    <tr>\n",
       "      <th>3</th>\n",
       "      <td>2001-04-18</td>\n",
       "      <td>23.8410</td>\n",
       "      <td>24.948</td>\n",
       "      <td>23.6980</td>\n",
       "      <td>24.6220</td>\n",
       "      <td>208193557</td>\n",
       "      <td>MSFT</td>\n",
       "    </tr>\n",
       "    <tr>\n",
       "      <th>4</th>\n",
       "      <td>2017-06-09</td>\n",
       "      <td>71.6530</td>\n",
       "      <td>71.698</td>\n",
       "      <td>68.2260</td>\n",
       "      <td>69.9470</td>\n",
       "      <td>49405790</td>\n",
       "      <td>MSFT</td>\n",
       "    </tr>\n",
       "    <tr>\n",
       "      <th>...</th>\n",
       "      <td>...</td>\n",
       "      <td>...</td>\n",
       "      <td>...</td>\n",
       "      <td>...</td>\n",
       "      <td>...</td>\n",
       "      <td>...</td>\n",
       "      <td>...</td>\n",
       "    </tr>\n",
       "    <tr>\n",
       "      <th>25373</th>\n",
       "      <td>2023-08-09</td>\n",
       "      <td>312.8800</td>\n",
       "      <td>313.630</td>\n",
       "      <td>302.8500</td>\n",
       "      <td>305.2100</td>\n",
       "      <td>19955783</td>\n",
       "      <td>META</td>\n",
       "    </tr>\n",
       "    <tr>\n",
       "      <th>25374</th>\n",
       "      <td>2023-08-10</td>\n",
       "      <td>307.9400</td>\n",
       "      <td>312.339</td>\n",
       "      <td>303.8700</td>\n",
       "      <td>305.7400</td>\n",
       "      <td>14358897</td>\n",
       "      <td>META</td>\n",
       "    </tr>\n",
       "    <tr>\n",
       "      <th>25375</th>\n",
       "      <td>2023-08-11</td>\n",
       "      <td>302.5700</td>\n",
       "      <td>304.720</td>\n",
       "      <td>300.3600</td>\n",
       "      <td>301.6400</td>\n",
       "      <td>14046250</td>\n",
       "      <td>META</td>\n",
       "    </tr>\n",
       "    <tr>\n",
       "      <th>25376</th>\n",
       "      <td>2023-08-14</td>\n",
       "      <td>300.9800</td>\n",
       "      <td>306.210</td>\n",
       "      <td>298.2500</td>\n",
       "      <td>306.1900</td>\n",
       "      <td>15641921</td>\n",
       "      <td>META</td>\n",
       "    </tr>\n",
       "    <tr>\n",
       "      <th>25377</th>\n",
       "      <td>2023-08-15</td>\n",
       "      <td>306.1400</td>\n",
       "      <td>307.230</td>\n",
       "      <td>300.0300</td>\n",
       "      <td>301.9500</td>\n",
       "      <td>11623613</td>\n",
       "      <td>META</td>\n",
       "    </tr>\n",
       "  </tbody>\n",
       "</table>\n",
       "<p>25378 rows × 7 columns</p>\n",
       "</div>"
      ],
      "text/plain": [
       "             Date      Open     High       Low     Close     Volume Stock\n",
       "0      2002-06-07    1.3932    1.405    1.3394    1.3702  170781506  AAPL\n",
       "1      2004-07-22   21.8610   22.047   21.6940   21.8200  165779585  MSFT\n",
       "2      2014-10-02   76.5700   77.480   75.6400   77.0800   36469741    FB\n",
       "3      2001-04-18   23.8410   24.948   23.6980   24.6220  208193557  MSFT\n",
       "4      2017-06-09   71.6530   71.698   68.2260   69.9470   49405790  MSFT\n",
       "...           ...       ...      ...       ...       ...        ...   ...\n",
       "25373  2023-08-09  312.8800  313.630  302.8500  305.2100   19955783  META\n",
       "25374  2023-08-10  307.9400  312.339  303.8700  305.7400   14358897  META\n",
       "25375  2023-08-11  302.5700  304.720  300.3600  301.6400   14046250  META\n",
       "25376  2023-08-14  300.9800  306.210  298.2500  306.1900   15641921  META\n",
       "25377  2023-08-15  306.1400  307.230  300.0300  301.9500   11623613  META\n",
       "\n",
       "[25378 rows x 7 columns]"
      ]
     },
     "execution_count": 2,
     "metadata": {},
     "output_type": "execute_result"
    }
   ],
   "source": [
    "test_tsla = pd.read_csv(\"/Users/lucasmazza/Desktop/Stock_Price/Stock-Price-Predict-Pytorch/stock_train.csv\")\n",
    "test_tsla"
   ]
  },
  {
   "cell_type": "code",
   "execution_count": 4,
   "metadata": {},
   "outputs": [
    {
     "name": "stdout",
     "output_type": "stream",
     "text": [
      "CSV File Updated Successfully.\n"
     ]
    }
   ],
   "source": [
    "#rename FB to META\n",
    "file_path = '/Users/lucasmazza/Desktop/Stock_Price/Stock-Price-Predict-Pytorch/stock_train.csv'\n",
    "df = pd.read_csv(file_path)\n",
    "\n",
    "# Rename a specific value in the 'status' column\n",
    "old_value = 'FB'\n",
    "new_value = 'META'\n",
    "\n",
    "df['Stock'] = df['Stock'].replace(old_value, new_value)\n",
    "#df.drop('status', axis=1, inplace=True)\n",
    "\n",
    "# Save the modified DataFrame back to the CSV file\n",
    "df.to_csv(file_path, index=False)\n",
    "\n",
    "print(\"CSV File Updated Successfully.\")"
   ]
  },
  {
   "cell_type": "code",
   "execution_count": 5,
   "metadata": {},
   "outputs": [
    {
     "name": "stdout",
     "output_type": "stream",
     "text": [
      "Most Recent Date: 2023-08-15\n"
     ]
    }
   ],
   "source": [
    "most_recent_date = test_tsla['Date'].max()\n",
    "\n",
    "print(\"Most Recent Date:\", most_recent_date)"
   ]
  },
  {
   "cell_type": "code",
   "execution_count": 12,
   "metadata": {},
   "outputs": [
    {
     "name": "stdout",
     "output_type": "stream",
     "text": [
      "Date      0\n",
      "Open      0\n",
      "High      0\n",
      "Low       0\n",
      "Close     0\n",
      "Volume    0\n",
      "Stock     0\n",
      "dtype: int64\n"
     ]
    }
   ],
   "source": [
    "print(df.isna().sum())"
   ]
  }
 ],
 "metadata": {
  "kernelspec": {
   "display_name": "env_pytorch",
   "language": "python",
   "name": "python3"
  },
  "language_info": {
   "codemirror_mode": {
    "name": "ipython",
    "version": 3
   },
   "file_extension": ".py",
   "mimetype": "text/x-python",
   "name": "python",
   "nbconvert_exporter": "python",
   "pygments_lexer": "ipython3",
   "version": "3.9.16"
  },
  "orig_nbformat": 4
 },
 "nbformat": 4,
 "nbformat_minor": 2
}
