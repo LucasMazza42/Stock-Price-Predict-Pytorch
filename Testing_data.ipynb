{
 "cells": [
  {
   "cell_type": "code",
   "execution_count": 1,
   "metadata": {},
   "outputs": [],
   "source": [
    "from model import MyNetwork\n",
    "import pandas as pd\n",
    "import torch"
   ]
  },
  {
   "cell_type": "code",
   "execution_count": 2,
   "metadata": {},
   "outputs": [],
   "source": [
    "df = pd.read_csv(\"/Users/lucasmazza/Desktop/Stock_Price/Stock-Price-Predict-Pytorch/stock_train.csv\")\n"
   ]
  },
  {
   "cell_type": "code",
   "execution_count": 4,
   "metadata": {},
   "outputs": [
    {
     "name": "stdout",
     "output_type": "stream",
     "text": [
      "CSV File Updated Successfully.\n"
     ]
    }
   ],
   "source": [
    "#rename FB to META\n",
    "file_path = '/Users/lucasmazza/Desktop/Stock_Price/Stock-Price-Predict-Pytorch/stock_train.csv'\n",
    "df = pd.read_csv(file_path)\n",
    "\n",
    "# Rename a specific value in the 'status' column\n",
    "old_value = 'FB'\n",
    "new_value = 'META'\n",
    "\n",
    "df['Stock'] = df['Stock'].replace(old_value, new_value)\n",
    "#df.drop('status', axis=1, inplace=True)\n",
    "\n",
    "# Save the modified DataFrame back to the CSV file\n",
    "df.to_csv(file_path, index=False)\n",
    "\n",
    "print(\"CSV File Updated Successfully.\")"
   ]
  },
  {
   "cell_type": "code",
   "execution_count": 5,
   "metadata": {},
   "outputs": [
    {
     "name": "stdout",
     "output_type": "stream",
     "text": [
      "Most Recent Date: 2023-08-15\n"
     ]
    }
   ],
   "source": [
    "most_recent_date = test_tsla['Date'].max()\n",
    "\n",
    "print(\"Most Recent Date:\", most_recent_date)"
   ]
  },
  {
   "cell_type": "code",
   "execution_count": 12,
   "metadata": {},
   "outputs": [
    {
     "name": "stdout",
     "output_type": "stream",
     "text": [
      "Date      0\n",
      "Open      0\n",
      "High      0\n",
      "Low       0\n",
      "Close     0\n",
      "Volume    0\n",
      "Stock     0\n",
      "dtype: int64\n"
     ]
    }
   ],
   "source": [
    "print(df.isna().sum())"
   ]
  },
  {
   "cell_type": "code",
   "execution_count": 8,
   "metadata": {},
   "outputs": [
    {
     "name": "stderr",
     "output_type": "stream",
     "text": [
      "<>:10: SyntaxWarning: \"is\" with a literal. Did you mean \"==\"?\n",
      "<>:10: SyntaxWarning: \"is\" with a literal. Did you mean \"==\"?\n",
      "<ipython-input-8-6527199182e0>:10: SyntaxWarning: \"is\" with a literal. Did you mean \"==\"?\n",
      "  if i is 0:\n",
      "<ipython-input-8-6527199182e0>:20: SettingWithCopyWarning: \n",
      "A value is trying to be set on a copy of a slice from a DataFrame.\n",
      "Try using .loc[row_indexer,col_indexer] = value instead\n",
      "\n",
      "See the caveats in the documentation: https://pandas.pydata.org/pandas-docs/stable/user_guide/indexing.html#returning-a-view-versus-a-copy\n",
      "  tsla_df['LABEL'] = direction_labels\n"
     ]
    }
   ],
   "source": [
    "#####UP or DOWN DATE CREATION FOR TSLA######\n",
    "tsla_df = df[df['Stock'] == 'TSLA']\n",
    "closing_prices = tsla_df['Close']\n",
    "closing_prices = closing_prices.to_numpy()\n",
    "direction_labels = []\n",
    "new_file_path = \"/Users/lucasmazza/Desktop/Stock_Price/Stock-Price-Predict-Pytorch/TSLA.csv\"\n",
    "\n",
    "\n",
    "for i in range(0, len(closing_prices)):\n",
    "    if i is 0: \n",
    "        direction_labels.append(0)\n",
    "    else: \n",
    "        price_change = closing_prices[i] - closing_prices[i - 1]\n",
    "        if price_change > 0:\n",
    "            direction_labels.append(1)  # Up\n",
    "        elif price_change < 0:\n",
    "            direction_labels.append(-1)  # Down\n",
    "        else:\n",
    "            direction_labels.append(0)  # Unchanged\n",
    "tsla_df['LABEL'] = direction_labels\n",
    "tsla_df.to_csv(new_file_path, index=False)"
   ]
  }
 ],
 "metadata": {
  "kernelspec": {
   "display_name": "env_pytorch",
   "language": "python",
   "name": "python3"
  },
  "language_info": {
   "codemirror_mode": {
    "name": "ipython",
    "version": 3
   },
   "file_extension": ".py",
   "mimetype": "text/x-python",
   "name": "python",
   "nbconvert_exporter": "python",
   "pygments_lexer": "ipython3",
   "version": "3.9.16"
  },
  "orig_nbformat": 4
 },
 "nbformat": 4,
 "nbformat_minor": 2
}
